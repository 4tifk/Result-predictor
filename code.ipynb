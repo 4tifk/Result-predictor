{
 "cells": [
  {
   "cell_type": "code",
   "execution_count": 3,
   "id": "81d31e05-616b-48c6-b077-a9d09708e00a",
   "metadata": {
    "tags": []
   },
   "outputs": [],
   "source": [
    "import requests"
   ]
  },
  {
   "cell_type": "code",
   "execution_count": 7,
   "id": "341e44d3-2104-4e3a-a536-739ea933582f",
   "metadata": {
    "tags": []
   },
   "outputs": [],
   "source": [
    "standings_url = \"https://fbref.com/en/comps/9/2024-2025/2024-2025-Premier-League-Stats\""
   ]
  },
  {
   "cell_type": "code",
   "execution_count": 9,
   "id": "c0e437c9-b247-4a1a-9fcd-733a8cc86a4f",
   "metadata": {
    "tags": []
   },
   "outputs": [],
   "source": [
    "data = requests.get(standings_url)"
   ]
  },
  {
   "cell_type": "code",
   "execution_count": 15,
   "id": "997fa2ac-fbdc-4c34-b0f9-bf0c37493b8f",
   "metadata": {
    "tags": []
   },
   "outputs": [],
   "source": [
    "from bs4 import BeautifulSoup"
   ]
  },
  {
   "cell_type": "code",
   "execution_count": 17,
   "id": "a08e0207-e6c9-4432-b182-66ccce8c5ea0",
   "metadata": {
    "tags": []
   },
   "outputs": [],
   "source": [
    "soup = BeautifulSoup(data.text)"
   ]
  },
  {
   "cell_type": "code",
   "execution_count": 19,
   "id": "509af1bc-f1cb-4ebc-8116-fca0d676605d",
   "metadata": {
    "tags": []
   },
   "outputs": [],
   "source": [
    "standings_table = soup.select('table.stats_table')[0]"
   ]
  },
  {
   "cell_type": "code",
   "execution_count": 23,
   "id": "32759859-096f-4831-969f-7633eed0ba41",
   "metadata": {
    "tags": []
   },
   "outputs": [],
   "source": [
    "links = standings_table.find_all('a')"
   ]
  },
  {
   "cell_type": "code",
   "execution_count": 25,
   "id": "59531732-628a-4508-a58d-85b299692857",
   "metadata": {
    "tags": []
   },
   "outputs": [],
   "source": [
    "links = [l.get(\"href\") for l in links]"
   ]
  },
  {
   "cell_type": "code",
   "execution_count": 27,
   "id": "e9843db1-a585-4cae-b8c7-21171275a4dc",
   "metadata": {
    "tags": []
   },
   "outputs": [],
   "source": [
    "links = [l for l in links if '/squads/' in l]"
   ]
  },
  {
   "cell_type": "code",
   "execution_count": 29,
   "id": "303b9ddb-b80d-4cd0-b27e-07b88e3fff13",
   "metadata": {
    "tags": []
   },
   "outputs": [
    {
     "data": {
      "text/plain": [
       "['/en/squads/18bb7c10/Arsenal-Stats',\n",
       " '/en/squads/8602292d/Aston-Villa-Stats',\n",
       " '/en/squads/4ba7cbea/2024-2025/Bournemouth-Stats',\n",
       " '/en/squads/cd051869/2024-2025/Brentford-Stats',\n",
       " '/en/squads/d07537b9/2024-2025/Brighton-and-Hove-Albion-Stats',\n",
       " '/en/squads/cff3d9bb/2024-2025/Chelsea-Stats',\n",
       " '/en/squads/47c64c55/2024-2025/Crystal-Palace-Stats',\n",
       " '/en/squads/d3fd31cc/2024-2025/Everton-Stats',\n",
       " '/en/squads/fd962109/2024-2025/Fulham-Stats',\n",
       " '/en/squads/b74092de/2024-2025/Ipswich-Town-Stats',\n",
       " '/en/squads/a2d435b3/2024-2025/Leicester-City-Stats',\n",
       " '/en/squads/822bd0ba/Liverpool-Stats',\n",
       " '/en/squads/b8fd03ef/Manchester-City-Stats',\n",
       " '/en/squads/19538871/2024-2025/Manchester-United-Stats',\n",
       " '/en/squads/b2b47a98/2024-2025/Newcastle-United-Stats',\n",
       " '/en/squads/e4a775cb/2024-2025/Nottingham-Forest-Stats',\n",
       " '/en/squads/33c895d4/2024-2025/Southampton-Stats',\n",
       " '/en/squads/361ca564/2024-2025/Tottenham-Hotspur-Stats',\n",
       " '/en/squads/7c21e445/2024-2025/West-Ham-United-Stats',\n",
       " '/en/squads/8cec06e1/2024-2025/Wolverhampton-Wanderers-Stats']"
      ]
     },
     "execution_count": 29,
     "metadata": {},
     "output_type": "execute_result"
    }
   ],
   "source": [
    "links"
   ]
  },
  {
   "cell_type": "code",
   "execution_count": 31,
   "id": "b3e54104-9686-429d-a948-89ef80057920",
   "metadata": {
    "tags": []
   },
   "outputs": [],
   "source": [
    "team_urls = [f\"https://fbref.com{l}\" for l in links]"
   ]
  },
  {
   "cell_type": "code",
   "execution_count": 33,
   "id": "2ee7aad3-f7a4-4d2f-bdbc-759a22cefb26",
   "metadata": {
    "tags": []
   },
   "outputs": [
    {
     "data": {
      "text/plain": [
       "['https://fbref.com/en/squads/18bb7c10/Arsenal-Stats',\n",
       " 'https://fbref.com/en/squads/8602292d/Aston-Villa-Stats',\n",
       " 'https://fbref.com/en/squads/4ba7cbea/2024-2025/Bournemouth-Stats',\n",
       " 'https://fbref.com/en/squads/cd051869/2024-2025/Brentford-Stats',\n",
       " 'https://fbref.com/en/squads/d07537b9/2024-2025/Brighton-and-Hove-Albion-Stats',\n",
       " 'https://fbref.com/en/squads/cff3d9bb/2024-2025/Chelsea-Stats',\n",
       " 'https://fbref.com/en/squads/47c64c55/2024-2025/Crystal-Palace-Stats',\n",
       " 'https://fbref.com/en/squads/d3fd31cc/2024-2025/Everton-Stats',\n",
       " 'https://fbref.com/en/squads/fd962109/2024-2025/Fulham-Stats',\n",
       " 'https://fbref.com/en/squads/b74092de/2024-2025/Ipswich-Town-Stats',\n",
       " 'https://fbref.com/en/squads/a2d435b3/2024-2025/Leicester-City-Stats',\n",
       " 'https://fbref.com/en/squads/822bd0ba/Liverpool-Stats',\n",
       " 'https://fbref.com/en/squads/b8fd03ef/Manchester-City-Stats',\n",
       " 'https://fbref.com/en/squads/19538871/2024-2025/Manchester-United-Stats',\n",
       " 'https://fbref.com/en/squads/b2b47a98/2024-2025/Newcastle-United-Stats',\n",
       " 'https://fbref.com/en/squads/e4a775cb/2024-2025/Nottingham-Forest-Stats',\n",
       " 'https://fbref.com/en/squads/33c895d4/2024-2025/Southampton-Stats',\n",
       " 'https://fbref.com/en/squads/361ca564/2024-2025/Tottenham-Hotspur-Stats',\n",
       " 'https://fbref.com/en/squads/7c21e445/2024-2025/West-Ham-United-Stats',\n",
       " 'https://fbref.com/en/squads/8cec06e1/2024-2025/Wolverhampton-Wanderers-Stats']"
      ]
     },
     "execution_count": 33,
     "metadata": {},
     "output_type": "execute_result"
    }
   ],
   "source": [
    "team_urls"
   ]
  },
  {
   "cell_type": "code",
   "execution_count": null,
   "id": "0e59250f-308e-46d1-9986-c1b8e285234d",
   "metadata": {},
   "outputs": [],
   "source": []
  }
 ],
 "metadata": {
  "kernelspec": {
   "display_name": "Python 3 (ipykernel)",
   "language": "python",
   "name": "python3"
  },
  "language_info": {
   "codemirror_mode": {
    "name": "ipython",
    "version": 3
   },
   "file_extension": ".py",
   "mimetype": "text/x-python",
   "name": "python",
   "nbconvert_exporter": "python",
   "pygments_lexer": "ipython3",
   "version": "3.11.7"
  }
 },
 "nbformat": 4,
 "nbformat_minor": 5
}
