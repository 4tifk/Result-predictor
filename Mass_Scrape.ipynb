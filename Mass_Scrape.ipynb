{
 "cells": [
  {
   "cell_type": "code",
   "execution_count": 11,
   "id": "44fea5ac-f544-4a94-8481-ae5dbe9f91ec",
   "metadata": {
    "tags": []
   },
   "outputs": [],
   "source": [
    "# imports\n",
    "from bs4 import BeautifulSoup\n",
    "import requests\n",
    "import pandas as pd\n",
    "import time"
   ]
  },
  {
   "cell_type": "code",
   "execution_count": 13,
   "id": "0c12484a-92a9-48b9-8047-c0b545d31a9e",
   "metadata": {
    "tags": []
   },
   "outputs": [],
   "source": [
    "# years to be used\n",
    "years = list(range(2023, 2021, -1))"
   ]
  },
  {
   "cell_type": "code",
   "execution_count": 15,
   "id": "16346f15-664f-4df9-b354-5c521e74f398",
   "metadata": {
    "tags": []
   },
   "outputs": [],
   "source": [
    "all_matches = []"
   ]
  },
  {
   "cell_type": "code",
   "execution_count": 17,
   "id": "bf0ee1f2-b320-4977-b3e6-f177dc3a0978",
   "metadata": {
    "tags": []
   },
   "outputs": [],
   "source": [
    "# stats url\n",
    "standings_url = \"https://fbref.com/en/comps/9/Premier-League-Stats\""
   ]
  },
  {
   "cell_type": "code",
   "execution_count": 25,
   "id": "9a2a278d-31cb-4804-94a2-aebb33c42f77",
   "metadata": {
    "tags": []
   },
   "outputs": [
    {
     "name": "stdout",
     "output_type": "stream",
     "text": [
      "1\n"
     ]
    },
    {
     "ename": "IndexError",
     "evalue": "list index out of range",
     "output_type": "error",
     "traceback": [
      "\u001b[1;31m---------------------------------------------------------------------------\u001b[0m",
      "\u001b[1;31mIndexError\u001b[0m                                Traceback (most recent call last)",
      "Cell \u001b[1;32mIn[25], line 8\u001b[0m\n\u001b[0;32m      6\u001b[0m soup \u001b[38;5;241m=\u001b[39m BeautifulSoup(data\u001b[38;5;241m.\u001b[39mtext)\n\u001b[0;32m      7\u001b[0m \u001b[38;5;66;03m## select the stats table\u001b[39;00m\n\u001b[1;32m----> 8\u001b[0m standings_table \u001b[38;5;241m=\u001b[39m soup\u001b[38;5;241m.\u001b[39mselect(\u001b[38;5;124m'\u001b[39m\u001b[38;5;124mtable.stats_table\u001b[39m\u001b[38;5;124m'\u001b[39m)[\u001b[38;5;241m0\u001b[39m]\n\u001b[0;32m     10\u001b[0m \u001b[38;5;66;03m## find all the links in the table\u001b[39;00m\n\u001b[0;32m     11\u001b[0m \u001b[38;5;66;03m# find all links\u001b[39;00m\n\u001b[0;32m     12\u001b[0m links \u001b[38;5;241m=\u001b[39m standings_table\u001b[38;5;241m.\u001b[39mfind_all(\u001b[38;5;124m'\u001b[39m\u001b[38;5;124ma\u001b[39m\u001b[38;5;124m'\u001b[39m)\n",
      "\u001b[1;31mIndexError\u001b[0m: list index out of range"
     ]
    }
   ],
   "source": [
    "# for each year in years\n",
    "for year in years:\n",
    "    ## get data on the page\n",
    "    data = requests.get(standings_url)\n",
    "    soup = BeautifulSoup(data.text)\n",
    "    ## select the stats table\n",
    "    standings_table = soup.select('table.stats_table')[0]\n",
    "    \n",
    "    ## find all the links in the table\n",
    "    # find all links\n",
    "    links = standings_table.find_all('a')\n",
    "    links = [l.get(\"href\") for l in links]\n",
    "    # get links for squads\n",
    "    links = [l for l in links if '/squads/' in l]\n",
    "    # create absolute links\n",
    "    team_urls = [f\"https://fbref.com{l}\" for l in links]\n",
    "    \n",
    "    # prev season\n",
    "    previous_season = soup.select(\"a.prev\")[0].get(\"href\")\n",
    "    standings_url = f\"https://fbref.com{previous_season}\"\n",
    "    \n",
    "    ## for each team in the table\n",
    "    for team_url in team_urls:\n",
    "        # get only team name from the link\n",
    "        team_name = team_url.split(\"/\")[-1].replace(\"-Stats\",\"\").replace(\"-\",\" \")\n",
    "        \n",
    "        ## get data inside the team url and save all the fixture data\n",
    "        data = requests.get(team_url)\n",
    "        matches = pd.read_html(data.text, match=\"Scores & Fixtures\")[0]\n",
    "        \n",
    "        ## get shooting stats\n",
    "        # init soup\n",
    "        soup = BeautifulSoup(data.text) \n",
    "        # find all links\n",
    "        links = soup.find_all('a') \n",
    "        # get all the links on page\n",
    "        links = [l.get(\"href\") for l in links] \n",
    "        # all links with shooting\n",
    "        links = [l for l in links if l and 'all_comps/shooting/' in l] \n",
    "        # get data from first link from array created above (all links are the same)\n",
    "        data = requests.get(f\"https://fbref.com{links[0]}\")  \n",
    "        # read in shooting stats with pandas\n",
    "        shooting = pd.read_html(data.text, match = \"Shooting\")[0]\n",
    "        # drop level because of shape\n",
    "        shooting.columns = shooting.columns.droplevel() \n",
    "        \n",
    "        # try lop as some teams don't have shooting stats\n",
    "        try:\n",
    "            # merge tables\n",
    "            team_data = matches.merge(shooting[[\"Date\", \"Sh\", \"SoT\", \"Dist\", \"FK\", \"PK\", \"PKatt\"]], on=\"Date\")\n",
    "        except ValueError:\n",
    "            # ignore and continue\n",
    "            continue\n",
    "        \n",
    "        team_data = team_data[team_data[\"Comp\"] == \"Premier League\"]\n",
    "        team_data[\"Season\"] = year\n",
    "        team_data[\"Team\"] = team_name\n",
    "        all_matches.append(team_data)\n",
    "        time.sleep(20) # slow down so not getting blocked\n",
    "        \n",
    "            "
   ]
  },
  {
   "cell_type": "code",
   "execution_count": null,
   "id": "2c11f363-61bd-43be-8594-f2922172d03a",
   "metadata": {},
   "outputs": [],
   "source": [
    "match_df = pd.concat(all_matches)"
   ]
  },
  {
   "cell_type": "code",
   "execution_count": null,
   "id": "2d4957c7-9164-40bf-a981-71d8f3f0cce2",
   "metadata": {},
   "outputs": [],
   "source": [
    "\n",
    "match_df.columns = [c.lower() for c in match_df.columns]"
   ]
  },
  {
   "cell_type": "code",
   "execution_count": null,
   "id": "2bae9afa-f662-4749-9c64-ce2119471a85",
   "metadata": {},
   "outputs": [],
   "source": [
    "match_df.to_csv(\"matches.csv\")"
   ]
  }
 ],
 "metadata": {
  "kernelspec": {
   "display_name": "Python 3 (ipykernel)",
   "language": "python",
   "name": "python3"
  },
  "language_info": {
   "codemirror_mode": {
    "name": "ipython",
    "version": 3
   },
   "file_extension": ".py",
   "mimetype": "text/x-python",
   "name": "python",
   "nbconvert_exporter": "python",
   "pygments_lexer": "ipython3",
   "version": "3.11.7"
  },
  "toc-autonumbering": true
 },
 "nbformat": 4,
 "nbformat_minor": 5
}
