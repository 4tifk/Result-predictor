{
 "cells": [
  {
   "cell_type": "code",
   "execution_count": null,
   "id": "44fea5ac-f544-4a94-8481-ae5dbe9f91ec",
   "metadata": {
    "tags": []
   },
   "outputs": [],
   "source": [
    "# imports\n",
    "from bs4 import BeautifulSoup\n",
    "import pandas as pd\n",
    "import time\n",
    "import cloudscraper\n",
    "scraper = cloudscraper.create_scraper()"
   ]
  },
  {
   "cell_type": "code",
   "execution_count": 2,
   "id": "235abb71",
   "metadata": {},
   "outputs": [],
   "source": [
    "from io import StringIO"
   ]
  },
  {
   "cell_type": "code",
   "execution_count": 3,
   "id": "0c12484a-92a9-48b9-8047-c0b545d31a9e",
   "metadata": {
    "tags": []
   },
   "outputs": [],
   "source": [
    "# years to be used\n",
    "years = list(range(2023, 2021, -1))"
   ]
  },
  {
   "cell_type": "code",
   "execution_count": 4,
   "id": "16346f15-664f-4df9-b354-5c521e74f398",
   "metadata": {
    "tags": []
   },
   "outputs": [],
   "source": [
    "all_matches = []"
   ]
  },
  {
   "cell_type": "code",
   "execution_count": null,
   "id": "bf0ee1f2-b320-4977-b3e6-f177dc3a0978",
   "metadata": {
    "tags": []
   },
   "outputs": [],
   "source": [
    "# stats url\n",
    "standings_url = \"https://fbref.com/en/comps/9/Premier-League-Stats\""
   ]
  },
  {
   "cell_type": "code",
   "execution_count": 7,
   "id": "9a2a278d-31cb-4804-94a2-aebb33c42f77",
   "metadata": {
    "tags": []
   },
   "outputs": [
    {
     "name": "stderr",
     "output_type": "stream",
     "text": [
      "C:\\Users\\atifk\\AppData\\Local\\Temp\\ipykernel_24908\\2858799257.py:57: FutureWarning: Passing literal html to 'read_html' is deprecated and will be removed in a future version. To read from a literal string, wrap it in a 'StringIO' object.\n",
      "  shooting = pd.read_html(data.text, match = \"Shooting\")[0]\n",
      "C:\\Users\\atifk\\AppData\\Local\\Temp\\ipykernel_24908\\2858799257.py:57: FutureWarning: Passing literal html to 'read_html' is deprecated and will be removed in a future version. To read from a literal string, wrap it in a 'StringIO' object.\n",
      "  shooting = pd.read_html(data.text, match = \"Shooting\")[0]\n",
      "C:\\Users\\atifk\\AppData\\Local\\Temp\\ipykernel_24908\\2858799257.py:57: FutureWarning: Passing literal html to 'read_html' is deprecated and will be removed in a future version. To read from a literal string, wrap it in a 'StringIO' object.\n",
      "  shooting = pd.read_html(data.text, match = \"Shooting\")[0]\n",
      "C:\\Users\\atifk\\AppData\\Local\\Temp\\ipykernel_24908\\2858799257.py:57: FutureWarning: Passing literal html to 'read_html' is deprecated and will be removed in a future version. To read from a literal string, wrap it in a 'StringIO' object.\n",
      "  shooting = pd.read_html(data.text, match = \"Shooting\")[0]\n",
      "C:\\Users\\atifk\\AppData\\Local\\Temp\\ipykernel_24908\\2858799257.py:57: FutureWarning: Passing literal html to 'read_html' is deprecated and will be removed in a future version. To read from a literal string, wrap it in a 'StringIO' object.\n",
      "  shooting = pd.read_html(data.text, match = \"Shooting\")[0]\n",
      "C:\\Users\\atifk\\AppData\\Local\\Temp\\ipykernel_24908\\2858799257.py:57: FutureWarning: Passing literal html to 'read_html' is deprecated and will be removed in a future version. To read from a literal string, wrap it in a 'StringIO' object.\n",
      "  shooting = pd.read_html(data.text, match = \"Shooting\")[0]\n",
      "C:\\Users\\atifk\\AppData\\Local\\Temp\\ipykernel_24908\\2858799257.py:57: FutureWarning: Passing literal html to 'read_html' is deprecated and will be removed in a future version. To read from a literal string, wrap it in a 'StringIO' object.\n",
      "  shooting = pd.read_html(data.text, match = \"Shooting\")[0]\n",
      "C:\\Users\\atifk\\AppData\\Local\\Temp\\ipykernel_24908\\2858799257.py:57: FutureWarning: Passing literal html to 'read_html' is deprecated and will be removed in a future version. To read from a literal string, wrap it in a 'StringIO' object.\n",
      "  shooting = pd.read_html(data.text, match = \"Shooting\")[0]\n",
      "C:\\Users\\atifk\\AppData\\Local\\Temp\\ipykernel_24908\\2858799257.py:57: FutureWarning: Passing literal html to 'read_html' is deprecated and will be removed in a future version. To read from a literal string, wrap it in a 'StringIO' object.\n",
      "  shooting = pd.read_html(data.text, match = \"Shooting\")[0]\n",
      "C:\\Users\\atifk\\AppData\\Local\\Temp\\ipykernel_24908\\2858799257.py:57: FutureWarning: Passing literal html to 'read_html' is deprecated and will be removed in a future version. To read from a literal string, wrap it in a 'StringIO' object.\n",
      "  shooting = pd.read_html(data.text, match = \"Shooting\")[0]\n",
      "C:\\Users\\atifk\\AppData\\Local\\Temp\\ipykernel_24908\\2858799257.py:57: FutureWarning: Passing literal html to 'read_html' is deprecated and will be removed in a future version. To read from a literal string, wrap it in a 'StringIO' object.\n",
      "  shooting = pd.read_html(data.text, match = \"Shooting\")[0]\n",
      "C:\\Users\\atifk\\AppData\\Local\\Temp\\ipykernel_24908\\2858799257.py:57: FutureWarning: Passing literal html to 'read_html' is deprecated and will be removed in a future version. To read from a literal string, wrap it in a 'StringIO' object.\n",
      "  shooting = pd.read_html(data.text, match = \"Shooting\")[0]\n",
      "C:\\Users\\atifk\\AppData\\Local\\Temp\\ipykernel_24908\\2858799257.py:57: FutureWarning: Passing literal html to 'read_html' is deprecated and will be removed in a future version. To read from a literal string, wrap it in a 'StringIO' object.\n",
      "  shooting = pd.read_html(data.text, match = \"Shooting\")[0]\n",
      "C:\\Users\\atifk\\AppData\\Local\\Temp\\ipykernel_24908\\2858799257.py:57: FutureWarning: Passing literal html to 'read_html' is deprecated and will be removed in a future version. To read from a literal string, wrap it in a 'StringIO' object.\n",
      "  shooting = pd.read_html(data.text, match = \"Shooting\")[0]\n",
      "C:\\Users\\atifk\\AppData\\Local\\Temp\\ipykernel_24908\\2858799257.py:57: FutureWarning: Passing literal html to 'read_html' is deprecated and will be removed in a future version. To read from a literal string, wrap it in a 'StringIO' object.\n",
      "  shooting = pd.read_html(data.text, match = \"Shooting\")[0]\n",
      "C:\\Users\\atifk\\AppData\\Local\\Temp\\ipykernel_24908\\2858799257.py:57: FutureWarning: Passing literal html to 'read_html' is deprecated and will be removed in a future version. To read from a literal string, wrap it in a 'StringIO' object.\n",
      "  shooting = pd.read_html(data.text, match = \"Shooting\")[0]\n",
      "C:\\Users\\atifk\\AppData\\Local\\Temp\\ipykernel_24908\\2858799257.py:57: FutureWarning: Passing literal html to 'read_html' is deprecated and will be removed in a future version. To read from a literal string, wrap it in a 'StringIO' object.\n",
      "  shooting = pd.read_html(data.text, match = \"Shooting\")[0]\n",
      "C:\\Users\\atifk\\AppData\\Local\\Temp\\ipykernel_24908\\2858799257.py:57: FutureWarning: Passing literal html to 'read_html' is deprecated and will be removed in a future version. To read from a literal string, wrap it in a 'StringIO' object.\n",
      "  shooting = pd.read_html(data.text, match = \"Shooting\")[0]\n",
      "C:\\Users\\atifk\\AppData\\Local\\Temp\\ipykernel_24908\\2858799257.py:57: FutureWarning: Passing literal html to 'read_html' is deprecated and will be removed in a future version. To read from a literal string, wrap it in a 'StringIO' object.\n",
      "  shooting = pd.read_html(data.text, match = \"Shooting\")[0]\n",
      "C:\\Users\\atifk\\AppData\\Local\\Temp\\ipykernel_24908\\2858799257.py:57: FutureWarning: Passing literal html to 'read_html' is deprecated and will be removed in a future version. To read from a literal string, wrap it in a 'StringIO' object.\n",
      "  shooting = pd.read_html(data.text, match = \"Shooting\")[0]\n",
      "C:\\Users\\atifk\\AppData\\Local\\Temp\\ipykernel_24908\\2858799257.py:57: FutureWarning: Passing literal html to 'read_html' is deprecated and will be removed in a future version. To read from a literal string, wrap it in a 'StringIO' object.\n",
      "  shooting = pd.read_html(data.text, match = \"Shooting\")[0]\n",
      "C:\\Users\\atifk\\AppData\\Local\\Temp\\ipykernel_24908\\2858799257.py:57: FutureWarning: Passing literal html to 'read_html' is deprecated and will be removed in a future version. To read from a literal string, wrap it in a 'StringIO' object.\n",
      "  shooting = pd.read_html(data.text, match = \"Shooting\")[0]\n",
      "C:\\Users\\atifk\\AppData\\Local\\Temp\\ipykernel_24908\\2858799257.py:57: FutureWarning: Passing literal html to 'read_html' is deprecated and will be removed in a future version. To read from a literal string, wrap it in a 'StringIO' object.\n",
      "  shooting = pd.read_html(data.text, match = \"Shooting\")[0]\n",
      "C:\\Users\\atifk\\AppData\\Local\\Temp\\ipykernel_24908\\2858799257.py:57: FutureWarning: Passing literal html to 'read_html' is deprecated and will be removed in a future version. To read from a literal string, wrap it in a 'StringIO' object.\n",
      "  shooting = pd.read_html(data.text, match = \"Shooting\")[0]\n",
      "C:\\Users\\atifk\\AppData\\Local\\Temp\\ipykernel_24908\\2858799257.py:57: FutureWarning: Passing literal html to 'read_html' is deprecated and will be removed in a future version. To read from a literal string, wrap it in a 'StringIO' object.\n",
      "  shooting = pd.read_html(data.text, match = \"Shooting\")[0]\n",
      "C:\\Users\\atifk\\AppData\\Local\\Temp\\ipykernel_24908\\2858799257.py:57: FutureWarning: Passing literal html to 'read_html' is deprecated and will be removed in a future version. To read from a literal string, wrap it in a 'StringIO' object.\n",
      "  shooting = pd.read_html(data.text, match = \"Shooting\")[0]\n",
      "C:\\Users\\atifk\\AppData\\Local\\Temp\\ipykernel_24908\\2858799257.py:57: FutureWarning: Passing literal html to 'read_html' is deprecated and will be removed in a future version. To read from a literal string, wrap it in a 'StringIO' object.\n",
      "  shooting = pd.read_html(data.text, match = \"Shooting\")[0]\n",
      "C:\\Users\\atifk\\AppData\\Local\\Temp\\ipykernel_24908\\2858799257.py:57: FutureWarning: Passing literal html to 'read_html' is deprecated and will be removed in a future version. To read from a literal string, wrap it in a 'StringIO' object.\n",
      "  shooting = pd.read_html(data.text, match = \"Shooting\")[0]\n",
      "C:\\Users\\atifk\\AppData\\Local\\Temp\\ipykernel_24908\\2858799257.py:57: FutureWarning: Passing literal html to 'read_html' is deprecated and will be removed in a future version. To read from a literal string, wrap it in a 'StringIO' object.\n",
      "  shooting = pd.read_html(data.text, match = \"Shooting\")[0]\n",
      "C:\\Users\\atifk\\AppData\\Local\\Temp\\ipykernel_24908\\2858799257.py:57: FutureWarning: Passing literal html to 'read_html' is deprecated and will be removed in a future version. To read from a literal string, wrap it in a 'StringIO' object.\n",
      "  shooting = pd.read_html(data.text, match = \"Shooting\")[0]\n",
      "C:\\Users\\atifk\\AppData\\Local\\Temp\\ipykernel_24908\\2858799257.py:57: FutureWarning: Passing literal html to 'read_html' is deprecated and will be removed in a future version. To read from a literal string, wrap it in a 'StringIO' object.\n",
      "  shooting = pd.read_html(data.text, match = \"Shooting\")[0]\n",
      "C:\\Users\\atifk\\AppData\\Local\\Temp\\ipykernel_24908\\2858799257.py:57: FutureWarning: Passing literal html to 'read_html' is deprecated and will be removed in a future version. To read from a literal string, wrap it in a 'StringIO' object.\n",
      "  shooting = pd.read_html(data.text, match = \"Shooting\")[0]\n",
      "C:\\Users\\atifk\\AppData\\Local\\Temp\\ipykernel_24908\\2858799257.py:57: FutureWarning: Passing literal html to 'read_html' is deprecated and will be removed in a future version. To read from a literal string, wrap it in a 'StringIO' object.\n",
      "  shooting = pd.read_html(data.text, match = \"Shooting\")[0]\n",
      "C:\\Users\\atifk\\AppData\\Local\\Temp\\ipykernel_24908\\2858799257.py:57: FutureWarning: Passing literal html to 'read_html' is deprecated and will be removed in a future version. To read from a literal string, wrap it in a 'StringIO' object.\n",
      "  shooting = pd.read_html(data.text, match = \"Shooting\")[0]\n",
      "C:\\Users\\atifk\\AppData\\Local\\Temp\\ipykernel_24908\\2858799257.py:57: FutureWarning: Passing literal html to 'read_html' is deprecated and will be removed in a future version. To read from a literal string, wrap it in a 'StringIO' object.\n",
      "  shooting = pd.read_html(data.text, match = \"Shooting\")[0]\n",
      "C:\\Users\\atifk\\AppData\\Local\\Temp\\ipykernel_24908\\2858799257.py:57: FutureWarning: Passing literal html to 'read_html' is deprecated and will be removed in a future version. To read from a literal string, wrap it in a 'StringIO' object.\n",
      "  shooting = pd.read_html(data.text, match = \"Shooting\")[0]\n",
      "C:\\Users\\atifk\\AppData\\Local\\Temp\\ipykernel_24908\\2858799257.py:57: FutureWarning: Passing literal html to 'read_html' is deprecated and will be removed in a future version. To read from a literal string, wrap it in a 'StringIO' object.\n",
      "  shooting = pd.read_html(data.text, match = \"Shooting\")[0]\n",
      "C:\\Users\\atifk\\AppData\\Local\\Temp\\ipykernel_24908\\2858799257.py:57: FutureWarning: Passing literal html to 'read_html' is deprecated and will be removed in a future version. To read from a literal string, wrap it in a 'StringIO' object.\n",
      "  shooting = pd.read_html(data.text, match = \"Shooting\")[0]\n",
      "C:\\Users\\atifk\\AppData\\Local\\Temp\\ipykernel_24908\\2858799257.py:57: FutureWarning: Passing literal html to 'read_html' is deprecated and will be removed in a future version. To read from a literal string, wrap it in a 'StringIO' object.\n",
      "  shooting = pd.read_html(data.text, match = \"Shooting\")[0]\n",
      "C:\\Users\\atifk\\AppData\\Local\\Temp\\ipykernel_24908\\2858799257.py:57: FutureWarning: Passing literal html to 'read_html' is deprecated and will be removed in a future version. To read from a literal string, wrap it in a 'StringIO' object.\n",
      "  shooting = pd.read_html(data.text, match = \"Shooting\")[0]\n"
     ]
    }
   ],
   "source": [
    "# for each year in years\n",
    "for year in years: \n",
    "\n",
    "     ## get data on the page\n",
    "    #data = requests.get(standings_url, headers=headers)\n",
    "    time.sleep(5) # slow down so not getting blocked\n",
    "    data = scraper.get(standings_url)\n",
    "    soup = BeautifulSoup(data.text)\n",
    "    ## select the stats table\n",
    "    standings_table = soup.select('table.stats_table')[0]\n",
    "\n",
    "\n",
    "    ## find all the links in the table\n",
    "    # find all links\n",
    "    links = standings_table.find_all('a')\n",
    "    links = [l.get(\"href\") for l in links]\n",
    "    # get links for squads\n",
    "    links = [l for l in links if '/squads/' in l]\n",
    "    # create absolute links\n",
    "    team_urls = [f\"https://fbref.com{l}\" for l in links]\n",
    "    \n",
    "   \n",
    "\n",
    "\n",
    "    # prev season\n",
    "    previous_season = soup.select(\"a.prev\")[0].get(\"href\")\n",
    "    standings_url = f\"https://fbref.com{previous_season}\"\n",
    "\n",
    "    \n",
    "\n",
    "    ## for each team in the table\n",
    "    for team_url in team_urls:\n",
    "        # get only team name from the link\n",
    "        team_name = team_url.split(\"/\")[-1].replace(\"-Stats\",\"\").replace(\"-\",\" \")\n",
    "        \n",
    "        ## get data inside the team url and save all the fixture data\n",
    "        \n",
    "        time.sleep(5) # slow down so not getting blocked\n",
    "        data = scraper.get(team_url)\n",
    "        matches = pd.read_html(StringIO(data.text), match=\"Scores & Fixtures\", flavor=\"lxml\")[0]\n",
    "        \n",
    "        ## get shooting stats\n",
    "        # init soup\n",
    "        soup = BeautifulSoup(data.text) \n",
    "        # find all links\n",
    "        links = soup.find_all('a') \n",
    "        # get all the links on page\n",
    "        links = [l.get(\"href\") for l in links] \n",
    "        # all links with shooting\n",
    "        links = [l for l in links if l and 'all_comps/shooting/' in l] \n",
    "        # get data from first link from array created above (all links are the same)\n",
    "        \n",
    "        time.sleep(5) # slow down so not getting blocked\n",
    "        data = scraper.get(f\"https://fbref.com{links[0]}\")  \n",
    "        # read in shooting stats with pandas\n",
    "        \n",
    "        shooting = pd.read_html(data.text, match = \"Shooting\")[0]\n",
    "        # drop level because of shape\n",
    "        shooting.columns = shooting.columns.droplevel() \n",
    "        \n",
    "        # try lop as some teams don't have shooting stats\n",
    "        try:\n",
    "            # merge tables\n",
    "            team_data = matches.merge(shooting[[\"Date\", \"Sh\", \"SoT\", \"Dist\", \"FK\", \"PK\", \"PKatt\"]], on=\"Date\")\n",
    "        except ValueError:\n",
    "            # ignore and continue\n",
    "            continue\n",
    "        \n",
    "        team_data = team_data[team_data[\"Comp\"] == \"Premier League\"]\n",
    "        team_data[\"Season\"] = year\n",
    "        team_data[\"Team\"] = team_name\n",
    "        all_matches.append(team_data) \n",
    "         "
   ]
  },
  {
   "cell_type": "code",
   "execution_count": 8,
   "id": "dbf9fba0",
   "metadata": {},
   "outputs": [
    {
     "name": "stdout",
     "output_type": "stream",
     "text": [
      "<Response [200]>\n"
     ]
    }
   ],
   "source": [
    "print(data)"
   ]
  },
  {
   "cell_type": "code",
   "execution_count": 9,
   "id": "2c11f363-61bd-43be-8594-f2922172d03a",
   "metadata": {},
   "outputs": [],
   "source": [
    "match_df = pd.concat(all_matches)"
   ]
  },
  {
   "cell_type": "code",
   "execution_count": 10,
   "id": "2d4957c7-9164-40bf-a981-71d8f3f0cce2",
   "metadata": {},
   "outputs": [],
   "source": [
    "\n",
    "match_df.columns = [c.lower() for c in match_df.columns]"
   ]
  },
  {
   "cell_type": "code",
   "execution_count": null,
   "id": "2bae9afa-f662-4749-9c64-ce2119471a85",
   "metadata": {},
   "outputs": [
    {
     "ename": "",
     "evalue": "",
     "output_type": "error",
     "traceback": [
      "\u001b[1;31mThe Kernel crashed while executing code in the current cell or a previous cell. \n",
      "\u001b[1;31mPlease review the code in the cell(s) to identify a possible cause of the failure. \n",
      "\u001b[1;31mClick <a href='https://aka.ms/vscodeJupyterKernelCrash'>here</a> for more info. \n",
      "\u001b[1;31mView Jupyter <a href='command:jupyter.viewOutput'>log</a> for further details."
     ]
    }
   ],
   "source": [
    "match_df.to_csv(\"matches.csv\")"
   ]
  }
 ],
 "metadata": {
  "kernelspec": {
   "display_name": "Python 3",
   "language": "python",
   "name": "python3"
  },
  "language_info": {
   "codemirror_mode": {
    "name": "ipython",
    "version": 3
   },
   "file_extension": ".py",
   "mimetype": "text/x-python",
   "name": "python",
   "nbconvert_exporter": "python",
   "pygments_lexer": "ipython3",
   "version": "3.13.3"
  },
  "toc-autonumbering": true
 },
 "nbformat": 4,
 "nbformat_minor": 5
}
