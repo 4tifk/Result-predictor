{
 "cells": [
  {
   "cell_type": "code",
   "execution_count": 2,
   "id": "44fea5ac-f544-4a94-8481-ae5dbe9f91ec",
   "metadata": {
    "tags": []
   },
   "outputs": [],
   "source": [
    "# imports\n",
    "from bs4 import BeautifulSoup\n",
    "import requests\n",
    "import pandas as pd\n",
    "import time\n",
    "import cloudscraper\n",
    "scraper = cloudscraper.create_scraper()"
   ]
  },
  {
   "cell_type": "code",
   "execution_count": 3,
   "id": "235abb71",
   "metadata": {},
   "outputs": [],
   "source": [
    "from io import StringIO"
   ]
  },
  {
   "cell_type": "code",
   "execution_count": 4,
   "id": "0c12484a-92a9-48b9-8047-c0b545d31a9e",
   "metadata": {
    "tags": []
   },
   "outputs": [],
   "source": [
    "# years to be used\n",
    "years = list(range(2023, 2021, -1))"
   ]
  },
  {
   "cell_type": "code",
   "execution_count": 5,
   "id": "16346f15-664f-4df9-b354-5c521e74f398",
   "metadata": {
    "tags": []
   },
   "outputs": [],
   "source": [
    "all_matches = []"
   ]
  },
  {
   "cell_type": "code",
   "execution_count": 6,
   "id": "bf0ee1f2-b320-4977-b3e6-f177dc3a0978",
   "metadata": {
    "tags": []
   },
   "outputs": [],
   "source": [
    "# stats url\n",
    "standings_url = \"https://fbref.com/en/comps/9/Premier-League-Stats\"\n",
    "headers={\n",
    "    \"User-Agent\": \"Chrome/92.0.4515.159 Safari/537.36\"}"
   ]
  },
  {
   "cell_type": "code",
   "execution_count": null,
   "id": "b8bb55c2",
   "metadata": {},
   "outputs": [],
   "source": []
  },
  {
   "cell_type": "code",
   "execution_count": null,
   "id": "9a2a278d-31cb-4804-94a2-aebb33c42f77",
   "metadata": {
    "tags": []
   },
   "outputs": [
    {
     "ename": "IndexError",
     "evalue": "list index out of range",
     "output_type": "error",
     "traceback": [
      "\u001b[31m---------------------------------------------------------------------------\u001b[39m",
      "\u001b[31mIndexError\u001b[39m                                Traceback (most recent call last)",
      "\u001b[36mCell\u001b[39m\u001b[36m \u001b[39m\u001b[32mIn[31]\u001b[39m\u001b[32m, line 17\u001b[39m\n\u001b[32m     15\u001b[39m soup = BeautifulSoup(data.text)\n\u001b[32m     16\u001b[39m \u001b[38;5;66;03m## select the stats table\u001b[39;00m\n\u001b[32m---> \u001b[39m\u001b[32m17\u001b[39m standings_table = \u001b[43msoup\u001b[49m\u001b[43m.\u001b[49m\u001b[43mselect\u001b[49m\u001b[43m(\u001b[49m\u001b[33;43m'\u001b[39;49m\u001b[33;43mtable.stats_table\u001b[39;49m\u001b[33;43m'\u001b[39;49m\u001b[43m)\u001b[49m\u001b[43m[\u001b[49m\u001b[32;43m0\u001b[39;49m\u001b[43m]\u001b[49m\n\u001b[32m     20\u001b[39m \u001b[38;5;66;03m# prev season\u001b[39;00m\n\u001b[32m     21\u001b[39m previous_season = soup.select(\u001b[33m\"\u001b[39m\u001b[33ma.prev\u001b[39m\u001b[33m\"\u001b[39m)[\u001b[32m0\u001b[39m].get(\u001b[33m\"\u001b[39m\u001b[33mhref\u001b[39m\u001b[33m\"\u001b[39m)\n",
      "\u001b[31mIndexError\u001b[39m: list index out of range"
     ]
    }
   ],
   "source": [
    "# for each year in years\n",
    "for year in years: \n",
    "    ## find all the links in the table\n",
    "    # find all links\n",
    "    links = standings_table.find_all('a')\n",
    "    links = [l.get(\"href\") for l in links]\n",
    "    # get links for squads\n",
    "    links = [l for l in links if '/squads/' in l]\n",
    "    # create absolute links\n",
    "    team_urls = [f\"https://fbref.com{l}\" for l in links]\n",
    "    \n",
    "    ## get data on the page\n",
    "    #data = requests.get(standings_url, headers=headers)\n",
    "    time.sleep(5) # slow down so not getting blocked\n",
    "    data = scraper.get(standings_url)\n",
    "    soup = BeautifulSoup(data.text)\n",
    "    ## select the stats table\n",
    "    standings_table = soup.select('table.stats_table')[0]\n",
    "\n",
    "\n",
    "    # prev season\n",
    "    previous_season = soup.select(\"a.prev\")[0].get(\"href\")\n",
    "    standings_url = f\"https://fbref.com{previous_season}\"\n",
    "\n",
    "    \n",
    "\n",
    "    ## for each team in the table\n",
    "    for team_url in team_urls:\n",
    "        # get only team name from the link\n",
    "        team_name = team_url.split(\"/\")[-1].replace(\"-Stats\",\"\").replace(\"-\",\" \")\n",
    "        \n",
    "        ## get data inside the team url and save all the fixture data\n",
    "        \n",
    "        time.sleep(5) # slow down so not getting blocked\n",
    "        data = scraper.get(team_url)\n",
    "        matches = pd.read_html(StringIO(data.text), match=\"Scores & Fixtures\", flavor=\"lxml\")[0]\n",
    "        \n",
    "        ## get shooting stats\n",
    "        # init soup\n",
    "        soup = BeautifulSoup(data.text) \n",
    "        # find all links\n",
    "        links = soup.find_all('a') \n",
    "        # get all the links on page\n",
    "        links = [l.get(\"href\") for l in links] \n",
    "        # all links with shooting\n",
    "        links = [l for l in links if l and 'all_comps/shooting/' in l] \n",
    "        # get data from first link from array created above (all links are the same)\n",
    "        \n",
    "        time.sleep(5) # slow down so not getting blocked\n",
    "        data = scraper.get(f\"https://fbref.com{links[0]}\")  \n",
    "        # read in shooting stats with pandas\n",
    "        \n",
    "        shooting = pd.read_html(data.text, match = \"Shooting\")[0]\n",
    "        # drop level because of shape\n",
    "        shooting.columns = shooting.columns.droplevel() \n",
    "        \n",
    "        # try lop as some teams don't have shooting stats\n",
    "        try:\n",
    "            # merge tables\n",
    "            team_data = matches.merge(shooting[[\"Date\", \"Sh\", \"SoT\", \"Dist\", \"FK\", \"PK\", \"PKatt\"]], on=\"Date\")\n",
    "        except ValueError:\n",
    "            # ignore and continue\n",
    "            continue\n",
    "        \n",
    "        team_data = team_data[team_data[\"Comp\"] == \"Premier League\"]\n",
    "        team_data[\"Season\"] = year\n",
    "        team_data[\"Team\"] = team_name\n",
    "        all_matches.append(team_data) \n",
    "         "
   ]
  },
  {
   "cell_type": "code",
   "execution_count": 30,
   "id": "dbf9fba0",
   "metadata": {},
   "outputs": [
    {
     "name": "stdout",
     "output_type": "stream",
     "text": [
      "<Response [429]>\n"
     ]
    }
   ],
   "source": [
    "print(data)"
   ]
  },
  {
   "cell_type": "code",
   "execution_count": null,
   "id": "2c11f363-61bd-43be-8594-f2922172d03a",
   "metadata": {},
   "outputs": [],
   "source": [
    "match_df = pd.concat(all_matches)"
   ]
  },
  {
   "cell_type": "code",
   "execution_count": null,
   "id": "2d4957c7-9164-40bf-a981-71d8f3f0cce2",
   "metadata": {},
   "outputs": [],
   "source": [
    "\n",
    "match_df.columns = [c.lower() for c in match_df.columns]"
   ]
  },
  {
   "cell_type": "code",
   "execution_count": null,
   "id": "2bae9afa-f662-4749-9c64-ce2119471a85",
   "metadata": {},
   "outputs": [],
   "source": [
    "match_df.to_csv(\"matches.csv\")"
   ]
  }
 ],
 "metadata": {
  "kernelspec": {
   "display_name": "Python 3",
   "language": "python",
   "name": "python3"
  },
  "language_info": {
   "codemirror_mode": {
    "name": "ipython",
    "version": 3
   },
   "file_extension": ".py",
   "mimetype": "text/x-python",
   "name": "python",
   "nbconvert_exporter": "python",
   "pygments_lexer": "ipython3",
   "version": "3.13.3"
  },
  "toc-autonumbering": true
 },
 "nbformat": 4,
 "nbformat_minor": 5
}
